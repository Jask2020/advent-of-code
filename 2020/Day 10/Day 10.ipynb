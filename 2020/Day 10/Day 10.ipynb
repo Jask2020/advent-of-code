{
 "cells": [
  {
   "cell_type": "code",
   "execution_count": 2,
   "metadata": {},
   "outputs": [
    {
     "data": {
      "text/plain": [
       "[0,\n",
       " 1,\n",
       " 2,\n",
       " 3,\n",
       " 4,\n",
       " 7,\n",
       " 10,\n",
       " 11,\n",
       " 12,\n",
       " 13,\n",
       " 14,\n",
       " 17,\n",
       " 18,\n",
       " 19,\n",
       " 20,\n",
       " 21,\n",
       " 24,\n",
       " 25,\n",
       " 26,\n",
       " 27,\n",
       " 28,\n",
       " 31,\n",
       " 32,\n",
       " 33,\n",
       " 34,\n",
       " 35,\n",
       " 38,\n",
       " 39,\n",
       " 40,\n",
       " 43,\n",
       " 46,\n",
       " 47,\n",
       " 48,\n",
       " 49,\n",
       " 52,\n",
       " 53,\n",
       " 54,\n",
       " 55,\n",
       " 56,\n",
       " 59,\n",
       " 62,\n",
       " 63,\n",
       " 64,\n",
       " 65,\n",
       " 66,\n",
       " 69,\n",
       " 72,\n",
       " 73,\n",
       " 76,\n",
       " 77,\n",
       " 78,\n",
       " 81,\n",
       " 82,\n",
       " 83,\n",
       " 84,\n",
       " 87,\n",
       " 88,\n",
       " 89,\n",
       " 90,\n",
       " 93,\n",
       " 94,\n",
       " 95,\n",
       " 96,\n",
       " 99,\n",
       " 102,\n",
       " 103,\n",
       " 104,\n",
       " 105,\n",
       " 108,\n",
       " 109,\n",
       " 110,\n",
       " 111,\n",
       " 114,\n",
       " 117,\n",
       " 120,\n",
       " 121,\n",
       " 122,\n",
       " 123,\n",
       " 126,\n",
       " 127,\n",
       " 128,\n",
       " 129,\n",
       " 132,\n",
       " 135,\n",
       " 138,\n",
       " 139,\n",
       " 140,\n",
       " 141,\n",
       " 142,\n",
       " 145,\n",
       " 146,\n",
       " 147,\n",
       " 148,\n",
       " 151,\n",
       " 152,\n",
       " 153,\n",
       " 154,\n",
       " 155,\n",
       " 158,\n",
       " 159,\n",
       " 160,\n",
       " 161,\n",
       " 164]"
      ]
     },
     "execution_count": 2,
     "metadata": {},
     "output_type": "execute_result"
    }
   ],
   "source": [
    "f = open(\"input10.txt\")\n",
    "fr = f.read().split()\n",
    "lst = [int(x) for x in fr]\n",
    "lst.append(0)\n",
    "lst.append(max(lst)+3)\n",
    "\n",
    "lst.sort()\n",
    "\n",
    "lst"
   ]
  },
  {
   "cell_type": "code",
   "execution_count": 3,
   "metadata": {},
   "outputs": [
    {
     "name": "stdout",
     "output_type": "stream",
     "text": [
      "{1: 71, 3: 31}\n"
     ]
    }
   ],
   "source": [
    "lst.sort()\n",
    "\n",
    "dif = {}\n",
    "\n",
    "for i in range(1,len(lst)):\n",
    "    if lst[i] - lst[i-1] in dif.keys():\n",
    "        dif[lst[i]-lst[i-1]] += 1\n",
    "    else:\n",
    "        dif[lst[i]-lst[i-1]] = 1\n",
    "\n",
    "print(dif)"
   ]
  },
  {
   "cell_type": "code",
   "execution_count": 11,
   "metadata": {},
   "outputs": [
    {
     "name": "stdout",
     "output_type": "stream",
     "text": [
      "169255295254528\n"
     ]
    }
   ],
   "source": [
    "dp = [0]*len(lst)\n",
    "dp[len(lst)-1] = 1\n",
    "for i in range(len(lst)-1,0,-1):\n",
    "    if lst[i]-3 in lst:\n",
    "        idx = lst.index(lst[i]-3)\n",
    "        dp[idx] += dp[i]\n",
    "    if lst[i]-2 in lst:\n",
    "        idx = lst.index(lst[i]-2)\n",
    "        dp[idx] += dp[i]\n",
    "    if lst[i]-1 in lst:\n",
    "        idx = lst.index(lst[i]-1)\n",
    "        dp[idx] += dp[i]\n",
    "        \n",
    "print(dp[0])"
   ]
  },
  {
   "cell_type": "code",
   "execution_count": null,
   "metadata": {},
   "outputs": [],
   "source": []
  }
 ],
 "metadata": {
  "kernelspec": {
   "display_name": "Python 3",
   "language": "python",
   "name": "python3"
  },
  "language_info": {
   "codemirror_mode": {
    "name": "ipython",
    "version": 3
   },
   "file_extension": ".py",
   "mimetype": "text/x-python",
   "name": "python",
   "nbconvert_exporter": "python",
   "pygments_lexer": "ipython3",
   "version": "3.8.3"
  }
 },
 "nbformat": 4,
 "nbformat_minor": 4
}
