{
 "cells": [
  {
   "cell_type": "code",
   "execution_count": 16,
   "metadata": {},
   "outputs": [
    {
     "name": "stdout",
     "output_type": "stream",
     "text": [
      "1002618\n",
      "['1002618', '19,x,x,x,x,x,x,x,x,41,x,x,x,37,x,x,x,x,x,367,x,x,x,x,x,x,x,x,x,x,x,x,13,x,x,x,17,x,x,x,x,x,x,x,x,x,x,x,29,x,373,x,x,x,x,x,x,x,x,x,x,x,x,x,x,x,x,x,x,x,x,x,x,23']\n",
      "['19', 'x', 'x', 'x', 'x', 'x', 'x', 'x', 'x', '41', 'x', 'x', 'x', '37', 'x', 'x', 'x', 'x', 'x', '367', 'x', 'x', 'x', 'x', 'x', 'x', 'x', 'x', 'x', 'x', 'x', 'x', '13', 'x', 'x', 'x', '17', 'x', 'x', 'x', 'x', 'x', 'x', 'x', 'x', 'x', 'x', 'x', '29', 'x', '373', 'x', 'x', 'x', 'x', 'x', 'x', 'x', 'x', 'x', 'x', 'x', 'x', 'x', 'x', 'x', 'x', 'x', 'x', 'x', 'x', 'x', 'x', '23']\n",
      "[19, 41, 37, 367, 13, 17, 29, 373, 23]\n"
     ]
    }
   ],
   "source": [
    "f = open('input13.txt')\n",
    "fr = f.read().split()\n",
    "\n",
    "timestamp = int(fr[0])\n",
    "ids1 = fr[1].split(',')\n",
    "ids2 = [int(x) for x in ids if x != 'x']\n",
    "\n",
    "print(timestamp)\n",
    "print(fr)\n",
    "print(ids1)\n",
    "print(ids2)"
   ]
  },
  {
   "cell_type": "code",
   "execution_count": 17,
   "metadata": {},
   "outputs": [
    {
     "data": {
      "text/plain": [
       "[1002630,\n",
       " 1002655,\n",
       " 1002626,\n",
       " 1002644,\n",
       " 1002625,\n",
       " 1002626,\n",
       " 1002646,\n",
       " 1002624,\n",
       " 1002639]"
      ]
     },
     "execution_count": 17,
     "metadata": {},
     "output_type": "execute_result"
    }
   ],
   "source": [
    "import math\n",
    "import itertools\n",
    "\n",
    "ceils = [(math.ceil(timestamp/x))*x for x in ids2]\n",
    "\n",
    "ceils"
   ]
  },
  {
   "cell_type": "code",
   "execution_count": 18,
   "metadata": {},
   "outputs": [
    {
     "data": {
      "text/plain": [
       "[12, 37, 8, 26, 7, 8, 28, 6, 21]"
      ]
     },
     "execution_count": 18,
     "metadata": {},
     "output_type": "execute_result"
    }
   ],
   "source": [
    "diffs = [x-timestamp for x in ceils]\n",
    "diffs"
   ]
  },
  {
   "cell_type": "code",
   "execution_count": 19,
   "metadata": {},
   "outputs": [
    {
     "name": "stdout",
     "output_type": "stream",
     "text": [
      "560214575859998\n"
     ]
    }
   ],
   "source": [
    "import functools\n",
    "\n",
    "def lcm(*nums):\n",
    "    return functools.reduce(lambda n, lcm: lcm * n // math.gcd(lcm, n), nums)\n",
    "\n",
    "buses = [(diff, int(bus)) for diff, bus in enumerate(ids1) if bus != 'x']\n",
    "start, step, found = 0, 1, 0\n",
    "while (found < len(buses)):\n",
    "    for t in itertools.count(start,step):\n",
    "        matches = [bus for diff,bus in buses if (t+diff)%bus == 0]\n",
    "        if len(matches) > found:\n",
    "            start = t\n",
    "            step = lcm(*matches)\n",
    "            found = len(matches)\n",
    "            break\n",
    "print(start)"
   ]
  },
  {
   "cell_type": "code",
   "execution_count": null,
   "metadata": {},
   "outputs": [],
   "source": []
  }
 ],
 "metadata": {
  "kernelspec": {
   "display_name": "Python 3",
   "language": "python",
   "name": "python3"
  },
  "language_info": {
   "codemirror_mode": {
    "name": "ipython",
    "version": 3
   },
   "file_extension": ".py",
   "mimetype": "text/x-python",
   "name": "python",
   "nbconvert_exporter": "python",
   "pygments_lexer": "ipython3",
   "version": "3.8.3"
  }
 },
 "nbformat": 4,
 "nbformat_minor": 4
}
