{
 "cells": [
  {
   "cell_type": "code",
   "execution_count": null,
   "metadata": {},
   "outputs": [],
   "source": [
    "lst = [1,2,16,19,18,0]\n",
    "\n",
    "n=6\n",
    "while True:\n",
    "    if n==30000000:\n",
    "        print(lst[-1])\n",
    "        break\n",
    "    if lst[-1] not in lst[:-1]:\n",
    "        lst.append(0)\n",
    "    else:\n",
    "        idx = lst[:-1][::-1].index(lst[-1])+1\n",
    "        lst.append(idx)\n",
    "    n+=1    "
   ]
  },
  {
   "cell_type": "code",
   "execution_count": 65,
   "metadata": {},
   "outputs": [
    {
     "name": "stdout",
     "output_type": "stream",
     "text": [
      "24065124\n"
     ]
    }
   ],
   "source": [
    "lst = {0:1,3:2}\n",
    "lst = {1:1,2:2,16:3,19:4,18:5}\n",
    "n=6\n",
    "last = 0\n",
    "\n",
    "while True:\n",
    "    if n == 30000000:\n",
    "        print(last)\n",
    "        break\n",
    "    if last in lst.keys():\n",
    "        curr = last\n",
    "        last = n- lst[last]\n",
    "        lst[curr] = n\n",
    "    else:\n",
    "        lst[last] = n\n",
    "        last = 0\n",
    "    n+=1\n",
    "        \n"
   ]
  },
  {
   "cell_type": "code",
   "execution_count": null,
   "metadata": {},
   "outputs": [],
   "source": []
  },
  {
   "cell_type": "code",
   "execution_count": null,
   "metadata": {},
   "outputs": [],
   "source": []
  }
 ],
 "metadata": {
  "kernelspec": {
   "display_name": "Python 3",
   "language": "python",
   "name": "python3"
  },
  "language_info": {
   "codemirror_mode": {
    "name": "ipython",
    "version": 3
   },
   "file_extension": ".py",
   "mimetype": "text/x-python",
   "name": "python",
   "nbconvert_exporter": "python",
   "pygments_lexer": "ipython3",
   "version": "3.8.3"
  }
 },
 "nbformat": 4,
 "nbformat_minor": 4
}
