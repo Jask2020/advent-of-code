{
 "cells": [
  {
   "cell_type": "code",
   "execution_count": 20,
   "metadata": {},
   "outputs": [
    {
     "name": "stdout",
     "output_type": "stream",
     "text": [
      "620\n"
     ]
    }
   ],
   "source": [
    "import re\n",
    "\n",
    "validCount = 0\n",
    "\n",
    "f = open(\"doainput2.txt\")\n",
    "for line in f:\n",
    "    x = re.search(r\"[0-9]+\", line)\n",
    "    minCount = int(x.group())\n",
    "    x = re.search(r\"-[0-9]+\", line)\n",
    "    maxCount = int(x.group()[1:])\n",
    "    x = re.search(r\"[a-zA-Z]:\", line)\n",
    "    letterChecker = x.group()[0]\n",
    "    x = re.search(r\":\\s[a-zA-Z]+\", line)\n",
    "    pw = x.group()[2:]\n",
    "    count = 0 \n",
    "    for i in pw:\n",
    "        if i == letterChecker:\n",
    "            count += 1\n",
    "    if count >= minCount and count <= maxCount:\n",
    "        validCount += 1\n",
    "            \n",
    "    \n",
    "print(validCount)    \n",
    "    \n"
   ]
  },
  {
   "cell_type": "code",
   "execution_count": 26,
   "metadata": {},
   "outputs": [
    {
     "name": "stdout",
     "output_type": "stream",
     "text": [
      "727\n"
     ]
    }
   ],
   "source": [
    "validCount = 0\n",
    "f = open(\"doainput2.txt\")\n",
    "\n",
    "for line in f:\n",
    "    x = re.search(r\"[0-9]+\", line)\n",
    "    pos1 = int(x.group())\n",
    "    x = re.search(r\"-[0-9]+\", line)\n",
    "    pos2 = int(x.group()[1:])\n",
    "    x = re.search(r\"[a-zA-Z]:\", line)\n",
    "    letterChecker = x.group()[0]\n",
    "    x = re.search(r\":\\s[a-zA-Z]+\", line)\n",
    "    pw = x.group()[2:]\n",
    "    if (pw[pos1-1]==letterChecker) ^ (pw[pos2-1]==letterChecker):\n",
    "        validCount += 1\n",
    "\n",
    "print(validCount)\n",
    "        "
   ]
  },
  {
   "cell_type": "code",
   "execution_count": null,
   "metadata": {},
   "outputs": [],
   "source": []
  }
 ],
 "metadata": {
  "kernelspec": {
   "display_name": "Python 3",
   "language": "python",
   "name": "python3"
  },
  "language_info": {
   "codemirror_mode": {
    "name": "ipython",
    "version": 3
   },
   "file_extension": ".py",
   "mimetype": "text/x-python",
   "name": "python",
   "nbconvert_exporter": "python",
   "pygments_lexer": "ipython3",
   "version": "3.8.3"
  }
 },
 "nbformat": 4,
 "nbformat_minor": 4
}
