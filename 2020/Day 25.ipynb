{
 "cells": [
  {
   "cell_type": "code",
   "execution_count": 62,
   "metadata": {},
   "outputs": [
    {
     "name": "stdout",
     "output_type": "stream",
     "text": [
      "14570644\n"
     ]
    }
   ],
   "source": [
    "def loop(val,sub):\n",
    "    val *= sub\n",
    "    val %= 20201227\n",
    "    return val\n",
    "    \n",
    "val = 1\n",
    "sub=7\n",
    "for i in range(100000000000):\n",
    "    #if val==5293040:\n",
    "    if val==8184785:\n",
    "        print(i)\n",
    "        break\n",
    "    val = loop(val,sub)\n",
    "    \n",
    "    \n",
    "cardpublic = 8184785 #input\n",
    "doorpublic = 5293040 #input\n",
    "\n"
   ]
  },
  {
   "cell_type": "code",
   "execution_count": 74,
   "metadata": {},
   "outputs": [
    {
     "name": "stdout",
     "output_type": "stream",
     "text": [
      "4126980\n"
     ]
    }
   ],
   "source": [
    "cardsize=14570644\n",
    "doorsize=1707612\n",
    "\n",
    "\n",
    "val=1\n",
    "for i in range(doorsize):\n",
    "    val=loop(val,cardpublic)\n",
    "    if i==doorsize-1:\n",
    "        print(val)\n",
    "    \n",
    "    \n"
   ]
  },
  {
   "cell_type": "code",
   "execution_count": 75,
   "metadata": {},
   "outputs": [
    {
     "name": "stdout",
     "output_type": "stream",
     "text": [
      "4126980\n"
     ]
    }
   ],
   "source": [
    "val=1\n",
    "for i in range(cardsize):\n",
    "    val=loop(val,doorpublic)\n",
    "    if i==cardsize-1:\n",
    "        print(val)\n",
    "    \n",
    "    "
   ]
  },
  {
   "cell_type": "code",
   "execution_count": 67,
   "metadata": {},
   "outputs": [
    {
     "name": "stdout",
     "output_type": "stream",
     "text": [
      "11\n"
     ]
    }
   ],
   "source": [
    "val = 1\n",
    "sub=7\n",
    "for i in range(100000000000):\n",
    "    if val==17807724:\n",
    "        #if val==8184785:\n",
    "        print(i)\n",
    "        break\n",
    "    val = loop(val,sub)"
   ]
  },
  {
   "cell_type": "code",
   "execution_count": 66,
   "metadata": {},
   "outputs": [
    {
     "name": "stdout",
     "output_type": "stream",
     "text": [
      "14897079\n"
     ]
    }
   ],
   "source": [
    "val=1\n",
    "for i in range(8):\n",
    "    val=loop(val,17807724)\n",
    "    if i==7:\n",
    "        print(val)"
   ]
  },
  {
   "cell_type": "code",
   "execution_count": 65,
   "metadata": {},
   "outputs": [
    {
     "name": "stdout",
     "output_type": "stream",
     "text": [
      "14897079\n"
     ]
    }
   ],
   "source": [
    "val=1\n",
    "for i in range(11):\n",
    "    val=loop(val,5764801)\n",
    "    if i==10:\n",
    "        print(val)"
   ]
  },
  {
   "cell_type": "code",
   "execution_count": null,
   "metadata": {},
   "outputs": [],
   "source": []
  }
 ],
 "metadata": {
  "kernelspec": {
   "display_name": "Python 3",
   "language": "python",
   "name": "python3"
  },
  "language_info": {
   "codemirror_mode": {
    "name": "ipython",
    "version": 3
   },
   "file_extension": ".py",
   "mimetype": "text/x-python",
   "name": "python",
   "nbconvert_exporter": "python",
   "pygments_lexer": "ipython3",
   "version": "3.8.3"
  }
 },
 "nbformat": 4,
 "nbformat_minor": 4
}
