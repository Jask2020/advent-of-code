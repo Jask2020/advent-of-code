{
 "cells": [
  {
   "cell_type": "code",
   "execution_count": 1,
   "metadata": {},
   "outputs": [],
   "source": []
  },
  {
   "cell_type": "code",
   "execution_count": 75,
   "metadata": {},
   "outputs": [
    {
     "name": "stdout",
     "output_type": "stream",
     "text": [
      "25\n"
     ]
    }
   ],
   "source": []
  },
  {
   "cell_type": "code",
   "execution_count": 76,
   "metadata": {},
   "outputs": [
    {
     "name": "stdout",
     "output_type": "stream",
     "text": [
      "25\n"
     ]
    }
   ],
   "source": [
    "#rs=1, 60\n",
    "#rs=3, 225\n",
    "#rs=5, 57\n",
    "#rs=7, 58\n",
    "#rs=1,ds=1, 25\n",
    "\n",
    "\n",
    "f = open(\"doainput3.txt\")\n",
    "fr = f.readlines()\n",
    "frcopy = []\n",
    "for line in fr:\n",
    "    frcopy.append(line[:-1])\n",
    "\n",
    "j = 0\n",
    "count = 0\n",
    "for i in range(0,len(frcopy),2):\n",
    "    if frcopy[i][j] == '#':\n",
    "        count += 1\n",
    "    j = (j+1)%len(frcopy[i])\n",
    "    \n",
    "print(count)\n",
    "    "
   ]
  },
  {
   "cell_type": "code",
   "execution_count": null,
   "metadata": {},
   "outputs": [],
   "source": []
  },
  {
   "cell_type": "code",
   "execution_count": null,
   "metadata": {},
   "outputs": [],
   "source": []
  }
 ],
 "metadata": {
  "kernelspec": {
   "display_name": "Python 3",
   "language": "python",
   "name": "python3"
  },
  "language_info": {
   "codemirror_mode": {
    "name": "ipython",
    "version": 3
   },
   "file_extension": ".py",
   "mimetype": "text/x-python",
   "name": "python",
   "nbconvert_exporter": "python",
   "pygments_lexer": "ipython3",
   "version": "3.8.3"
  }
 },
 "nbformat": 4,
 "nbformat_minor": 4
}
