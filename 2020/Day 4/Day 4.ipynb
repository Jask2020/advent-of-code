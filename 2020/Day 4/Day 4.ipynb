{
 "cells": [
  {
   "cell_type": "code",
   "execution_count": 48,
   "metadata": {},
   "outputs": [
    {
     "data": {
      "text/plain": [
       "204"
      ]
     },
     "execution_count": 48,
     "metadata": {},
     "output_type": "execute_result"
    }
   ],
   "source": [
    "#input\n",
    "f = open(\"doainput4.txt\")\n",
    "fr = f.read()\n",
    "fr = fr.split(\"\\n\\n\")\n",
    "\n",
    "#part 1\n",
    "vC = 0\n",
    "for passport in fr:\n",
    "    if passport.find(\"byr\") != -1 and passport.find(\"iyr\") != -1 and passport.find(\"eyr\") != -1 and passport.find(\"hgt\") != -1 and passport.find(\"hcl\") != -1 and passport.find(\"ecl\") != -1 and passport.find(\"pid\") != -1:\n",
    "        vC+=1\n",
    "        \n",
    "vC"
   ]
  },
  {
   "cell_type": "code",
   "execution_count": 49,
   "metadata": {},
   "outputs": [
    {
     "data": {
      "text/plain": [
       "180"
      ]
     },
     "execution_count": 49,
     "metadata": {},
     "output_type": "execute_result"
    }
   ],
   "source": [
    "#part 2\n",
    "\n",
    "import re\n",
    "\n",
    "vC=0\n",
    "\n",
    "for passport in fr:\n",
    "    if passport.find(\"byr\") != -1 and passport.find(\"iyr\") != -1 and passport.find(\"eyr\") != -1 and passport.find(\"hgt\") != -1 and passport.find(\"hcl\") != -1 and passport.find(\"ecl\") != -1 and passport.find(\"pid\") != -1:\n",
    "        x = re.search(r\"byr:\\w+\", passport)\n",
    "        y = re.search(r\"eyr:\\w+\", passport)\n",
    "        z = re.search(r\"iyr:\\w+\", passport)\n",
    "        w = re.search(r\"hgt:\\w+\", passport)\n",
    "        a = re.search(r\"hcl:\\S+\", passport)\n",
    "        b = re.search(r\"ecl:\\w+\", passport)\n",
    "        c = re.search(r\"pid:\\w+\", passport)\n",
    "        if not (x and y and z and w and a and b and c):\n",
    "            continue\n",
    "        if (1920 <= int(x.group()[4:]) <= 2002) and (2020 <= int(y.group()[4:]) <= 2030) and (2010 <= int(z.group()[4:]) <= 2020) and (b.group()[4:] in [\"amb\",\"blu\",\"brn\",\"gry\",\"grn\",\"hzl\",\"oth\"]) and (bool(re.match(r\"#\\w\\w\\w\\w\\w\\w\",a.group()[4:]))):\n",
    "                                                                                            if (bool(re.match(r\"\\d\\d\\d\\d\\d\\d\\d\\d\\d\",c.group()[4:]))):\n",
    "                                                                                                if ((w.group()[-2:] == \"in\") and 59<=int(w.group()[4:-2])<=76) or ((w.group()[-2:] == \"cm\") and 150<=int(w.group()[4:-2])<=193):\n",
    "                                                                                                    vC += 1\n",
    "                                                                                \n",
    "                                                                                            \n",
    "vC                                                                                                    \n"
   ]
  },
  {
   "cell_type": "code",
   "execution_count": null,
   "metadata": {},
   "outputs": [],
   "source": []
  }
 ],
 "metadata": {
  "kernelspec": {
   "display_name": "Python 3",
   "language": "python",
   "name": "python3"
  },
  "language_info": {
   "codemirror_mode": {
    "name": "ipython",
    "version": 3
   },
   "file_extension": ".py",
   "mimetype": "text/x-python",
   "name": "python",
   "nbconvert_exporter": "python",
   "pygments_lexer": "ipython3",
   "version": "3.8.3"
  }
 },
 "nbformat": 4,
 "nbformat_minor": 4
}
