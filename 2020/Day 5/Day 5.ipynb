{
 "cells": [
  {
   "cell_type": "code",
   "execution_count": 62,
   "metadata": {},
   "outputs": [
    {
     "name": "stdout",
     "output_type": "stream",
     "text": [
      "883\n",
      "{0, 1, 2, 3, 4, 5, 6, 7, 8, 9, 10, 11, 12, 13, 14, 15, 16, 17, 18, 19, 20, 21, 22, 23, 24, 25, 26, 27, 28, 29, 30, 31, 32, 33, 34, 35, 36, 37, 38, 39, 40, 41, 42, 43, 44, 45, 46, 47, 48, 49, 50, 51, 52, 53, 54, 55, 56, 57, 58, 59, 60, 61, 62, 63, 64, 65, 66, 67, 68, 69, 70, 71, 72, 73, 74, 75, 76, 77, 78, 79, 80, 81, 82, 83, 84, 532, 884, 885, 886, 887, 888, 889, 890, 891, 892, 893, 894, 895, 896, 897, 898, 899, 900, 901, 902, 903, 904, 905, 906, 907, 908, 909, 910, 911, 912, 913, 914, 915, 916, 917, 918, 919, 920, 921, 922, 923, 924, 925, 926, 927, 928, 929, 930, 931, 932, 933, 934, 935, 936, 937, 938, 939, 940, 941, 942, 943, 944, 945, 946, 947, 948, 949, 950, 951, 952, 953, 954, 955, 956, 957, 958, 959, 960, 961, 962, 963, 964, 965, 966, 967, 968, 969, 970, 971, 972, 973, 974, 975, 976, 977, 978, 979, 980, 981, 982, 983, 984, 985, 986, 987, 988, 989, 990, 991, 992, 993, 994, 995, 996, 997, 998, 999, 1000, 1001, 1002, 1003, 1004, 1005, 1006, 1007, 1008, 1009, 1010, 1011, 1012, 1013, 1014, 1015, 1016, 1017, 1018, 1019, 1020, 1021, 1022, 1023}\n"
     ]
    }
   ],
   "source": [
    "#input\n",
    "\n",
    "f = open(\"doainput5.txt\")\n",
    "fr = f.readlines()\n",
    "\n",
    "#Part 1\n",
    "for i in fr:\n",
    "    i = i[:-1]\n",
    "\n",
    "fr = [line[:-1] for line in fr]\n",
    "\n",
    "\n",
    "lst = [id(line) for line in fr]\n",
    "\n",
    "print(max(lst))\n",
    "\n",
    "#Part 2\n",
    "\n",
    "missing = set(lst) ^ set(range(1024))\n",
    "\n",
    "print(missing) #manual exploration #ans 532"
   ]
  },
  {
   "cell_type": "code",
   "execution_count": 52,
   "metadata": {},
   "outputs": [],
   "source": [
    "\n",
    "\n",
    "def id(p):\n",
    "    upperr = 127\n",
    "    lowerr = 0\n",
    "    upperc=7\n",
    "    lowerc=0\n",
    "    row = 0\n",
    "    for i in range(6):        \n",
    "        if p[i] == 'F':\n",
    "            upperr = int(lowerr + (upperr-lowerr)/2)\n",
    "        if p[i] =='B':\n",
    "            lowerr = int(lowerr + (upperr-lowerr)/2 + 1)     \n",
    "    if p[6] == 'F':\n",
    "        row = lowerr\n",
    "    else:\n",
    "        row = upperr\n",
    "    for i in range(7,10):\n",
    "        if p[i] == 'L':\n",
    "            upperc = int(lowerc + (upperc-lowerc)/2)\n",
    "        if p[i] == 'R':\n",
    "            lowerc = int(lowerc + (upperc-lowerc)/2 + 1)\n",
    "    col = upperc\n",
    "    return row*8+col"
   ]
  },
  {
   "cell_type": "code",
   "execution_count": null,
   "metadata": {},
   "outputs": [],
   "source": []
  }
 ],
 "metadata": {
  "kernelspec": {
   "display_name": "Python 3",
   "language": "python",
   "name": "python3"
  },
  "language_info": {
   "codemirror_mode": {
    "name": "ipython",
    "version": 3
   },
   "file_extension": ".py",
   "mimetype": "text/x-python",
   "name": "python",
   "nbconvert_exporter": "python",
   "pygments_lexer": "ipython3",
   "version": "3.8.3"
  }
 },
 "nbformat": 4,
 "nbformat_minor": 4
}
