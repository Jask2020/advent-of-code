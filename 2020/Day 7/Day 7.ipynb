{
 "cells": [
  {
   "cell_type": "code",
   "execution_count": 7,
   "metadata": {},
   "outputs": [
    {
     "name": "stdout",
     "output_type": "stream",
     "text": [
      "370\n"
     ]
    }
   ],
   "source": [
    "from collections import defaultdict\n",
    "\n",
    "\n",
    "f = open('doainput7.txt').read().splitlines()\n",
    "rules = {}\n",
    "for d in f:\n",
    "    x = d[:-1].split(' contain ')\n",
    "    c_color = x[0][:-5]\n",
    "    for b in x[1].split(', '):\n",
    "        if b != 'no other bags':\n",
    "            color = ' '.join(b.split(' ')[1:-1])\n",
    "            if color not in rules:\n",
    "                rules[color] = set({})\n",
    "            rules[color].add(c_color)\n",
    "\n",
    "colors = {'shiny gold'}\n",
    "added = True\n",
    "while added:\n",
    "    added = False\n",
    "    l = len(colors)\n",
    "    for color in colors:\n",
    "        if color in rules:\n",
    "            colors = colors | rules[color]\n",
    "    if len(colors) > l:\n",
    "        added = True\n",
    "\n",
    "print(len(colors) - 1)"
   ]
  },
  {
   "cell_type": "code",
   "execution_count": 8,
   "metadata": {},
   "outputs": [
    {
     "name": "stdout",
     "output_type": "stream",
     "text": [
      "29547\n"
     ]
    }
   ],
   "source": [
    "rules = {}\n",
    "for d in f:\n",
    "    x = d[:-1].split(' contain ')\n",
    "    c_color = x[0][:-5]\n",
    "    for b in x[1].split(', '):\n",
    "        if b != 'no other bags':\n",
    "            color = ' '.join(b.split(' ')[1:-1])\n",
    "            num = int(b.split(' ')[0])\n",
    "            if c_color not in rules:\n",
    "                rules[c_color] = set({})\n",
    "            rules[c_color].add((color, num))\n",
    "        else:\n",
    "            rules[c_color] = set({})\n",
    "\n",
    "def add_colors(color):\n",
    "    total = 0\n",
    "    for o_color, num in rules[color]:\n",
    "        total += num * (1 + add_colors(o_color))\n",
    "    return total\n",
    "\n",
    "print(add_colors('shiny gold'))"
   ]
  },
  {
   "cell_type": "code",
   "execution_count": null,
   "metadata": {},
   "outputs": [],
   "source": []
  }
 ],
 "metadata": {
  "kernelspec": {
   "display_name": "Python 3",
   "language": "python",
   "name": "python3"
  },
  "language_info": {
   "codemirror_mode": {
    "name": "ipython",
    "version": 3
   },
   "file_extension": ".py",
   "mimetype": "text/x-python",
   "name": "python",
   "nbconvert_exporter": "python",
   "pygments_lexer": "ipython3",
   "version": "3.8.3"
  }
 },
 "nbformat": 4,
 "nbformat_minor": 4
}
