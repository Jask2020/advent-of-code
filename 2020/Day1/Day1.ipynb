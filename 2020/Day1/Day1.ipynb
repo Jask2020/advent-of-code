{
 "cells": [
  {
   "cell_type": "code",
   "execution_count": 7,
   "metadata": {},
   "outputs": [],
   "source": [
    "#input\n",
    "lst = []\n",
    "f = open(\"doainput1.txt\")\n",
    "for line in f:\n",
    "    lst.append(int(line))"
   ]
  },
  {
   "cell_type": "code",
   "execution_count": 16,
   "metadata": {},
   "outputs": [],
   "source": [
    "lst.sort()\n"
   ]
  },
  {
   "cell_type": "code",
   "execution_count": 17,
   "metadata": {},
   "outputs": [],
   "source": [
    "# Binary search implementation for better time complexity might work\n",
    "\n",
    "def soln1():\n",
    "    for i in range(len(lst)):\n",
    "        for j in range(len(lst)-1,i,-1): # O(n^2)\n",
    "            if lst[i] + lst[j] == 2020:\n",
    "                return lst[i] * lst[j]\n",
    "            if lst[i] + lst[j] > 2020:\n",
    "                continue\n",
    "            else:\n",
    "                break\n",
    "    return -1"
   ]
  },
  {
   "cell_type": "code",
   "execution_count": 18,
   "metadata": {},
   "outputs": [
    {
     "data": {
      "text/plain": [
       "1013211"
      ]
     },
     "execution_count": 18,
     "metadata": {},
     "output_type": "execute_result"
    }
   ],
   "source": [
    "soln1()"
   ]
  },
  {
   "cell_type": "code",
   "execution_count": 21,
   "metadata": {},
   "outputs": [],
   "source": [
    "def soln2():\n",
    "    for i in range(len(lst)):\n",
    "        for j in range(i, len(lst)):\n",
    "            for k in range(len(lst)-1,j,-1): # O(n^3)\n",
    "                if lst[i] + lst[j] + lst[k] == 2020:\n",
    "                    return lst[i]*lst[j]*lst[k]\n",
    "                if lst[i] + lst[j] + lst[k] > 2020:\n",
    "                    continue\n",
    "                else:\n",
    "                    break                    \n",
    "    return -1"
   ]
  },
  {
   "cell_type": "code",
   "execution_count": 22,
   "metadata": {},
   "outputs": [
    {
     "data": {
      "text/plain": [
       "13891280"
      ]
     },
     "execution_count": 22,
     "metadata": {},
     "output_type": "execute_result"
    }
   ],
   "source": [
    "soln2()"
   ]
  },
  {
   "cell_type": "code",
   "execution_count": null,
   "metadata": {},
   "outputs": [],
   "source": []
  }
 ],
 "metadata": {
  "kernelspec": {
   "display_name": "Python 3",
   "language": "python",
   "name": "python3"
  },
  "language_info": {
   "codemirror_mode": {
    "name": "ipython",
    "version": 3
   },
   "file_extension": ".py",
   "mimetype": "text/x-python",
   "name": "python",
   "nbconvert_exporter": "python",
   "pygments_lexer": "ipython3",
   "version": "3.8.3"
  }
 },
 "nbformat": 4,
 "nbformat_minor": 4
}
